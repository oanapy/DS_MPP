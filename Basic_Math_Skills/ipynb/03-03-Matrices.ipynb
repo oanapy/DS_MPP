{
  "cells": [
    {
      "metadata": {},
      "cell_type": "markdown",
      "source": "# Introduction to Matrices\nIn general terms, a matrix is an array of numbers that are arranged into rows and columns.\n\n## Matrices and Matrix Notation\nA matrix arranges numbers into rows and columns, like this:\n\n\\begin{equation}A = \\begin{bmatrix}\n  1 & 2 & 3 \\\\\n  4 & 5 & 6\n \\end{bmatrix}\n\\end{equation}\n\nNote that matrices are generally named as a capital letter. We refer to the *elements* of the matrix using the lower case equivalent with a subscript row and column indicator, like this:\n\n\\begin{equation}A = \\begin{bmatrix}\n  a_{1,1} & a_{1,2} & a_{1,3} \\\\\n  a_{2,1} & a_{2,2} & a_{2,3}\n \\end{bmatrix}\n\\end{equation}\n\nIn Python, you can define a matrix as a 2-dimensional *numpy.**array***, like this:"
    },
    {
      "metadata": {
        "trusted": true
      },
      "cell_type": "code",
      "source": "import numpy as np\n\nA = np.array([[1,2,3],\n              [4,5,6]])\nprint (A)",
      "execution_count": 1,
      "outputs": [
        {
          "output_type": "stream",
          "text": "[[1 2 3]\n [4 5 6]]\n",
          "name": "stdout"
        }
      ]
    },
    {
      "metadata": {},
      "cell_type": "markdown",
      "source": "You can also use the *numpy.**matrix*** type, which is a specialist subclass of ***array***:"
    },
    {
      "metadata": {
        "trusted": true
      },
      "cell_type": "code",
      "source": "import numpy as np\n\nM = np.matrix([[1,2,3],\n               [4,5,6]])\nprint (M)",
      "execution_count": 2,
      "outputs": [
        {
          "output_type": "stream",
          "text": "[[1 2 3]\n [4 5 6]]\n",
          "name": "stdout"
        }
      ]
    },
    {
      "metadata": {},
      "cell_type": "markdown",
      "source": "There are some differences in behavior between ***array*** and ***matrix*** types - particularly with regards to multiplication (which we'll explore later). You can use either, but most experienced Python programmers who need to work with both vectors and matrices tend to prefer the ***array*** type for consistency."
    },
    {
      "metadata": {},
      "cell_type": "markdown",
      "source": "## Matrix Operations\nMatrices support common arithmetic operations.\n\n### Adding Matrices\nTo add two matrices of the same size together, just add the corresponding elements in each matrix:\n\n\\begin{equation}\\begin{bmatrix}1 & 2 & 3 \\\\4 & 5 & 6\\end{bmatrix}+ \\begin{bmatrix}6 & 5 & 4 \\\\3 & 2 & 1\\end{bmatrix} = \\begin{bmatrix}7 & 7 & 7 \\\\7 & 7 & 7\\end{bmatrix}\\end{equation}\n\nIn this example, we're adding two matrices (let's call them ***A*** and ***B***). Each matrix has two rows of three columns (so we describe them as 2x3 matrices). Adding these will create a new matrix of the same dimensions with the values a<sub>1,1</sub> + b<sub>1,1</sub>, a<sub>1,2</sub> + b<sub>1,2</sub>, a<sub>1,3</sub> + b<sub>1,3</sub>,a<sub>2,1</sub> + b<sub>2,1</sub>, a<sub>2,2</sub> + b<sub>2,2</sub>, and a<sub>2,3</sub> + b<sub>2,3</sub>. In this instance, each pair of corresponding elements(1 and 6, 2, and 5, 3 and 4, etc.) adds up to 7.\n\nLet's try that with Python:"
    },
    {
      "metadata": {
        "trusted": true
      },
      "cell_type": "code",
      "source": "import numpy as np\n\nA = np.array([[1,2,3],\n              [4,5,6]])\nB = np.array([[6,5,4],\n              [3,2,1]])\nprint(A + B)",
      "execution_count": 3,
      "outputs": [
        {
          "output_type": "stream",
          "text": "[[7 7 7]\n [7 7 7]]\n",
          "name": "stdout"
        }
      ]
    },
    {
      "metadata": {},
      "cell_type": "markdown",
      "source": "### Subtracting Matrices\nMatrix subtraction works similarly to matrix addition:\n\n\\begin{equation}\\begin{bmatrix}1 & 2 & 3 \\\\4 & 5 & 6\\end{bmatrix}- \\begin{bmatrix}6 & 5 & 4 \\\\3 & 2 & 1\\end{bmatrix} = \\begin{bmatrix}-5 & -3 & -1 \\\\1 & 3 & 5\\end{bmatrix}\\end{equation}\n\nHere's the Python code to do this:"
    },
    {
      "metadata": {
        "trusted": true
      },
      "cell_type": "code",
      "source": "import numpy as np\n\nA = np.array([[1,2,3],\n              [4,5,6]])\nB = np.array([[6,5,4],\n              [3,2,1]])\nprint (A - B)",
      "execution_count": 4,
      "outputs": [
        {
          "output_type": "stream",
          "text": "[[-5 -3 -1]\n [ 1  3  5]]\n",
          "name": "stdout"
        }
      ]
    },
    {
      "metadata": {},
      "cell_type": "markdown",
      "source": "#### Conformability\nIn the previous examples, we were able to add and subtract the matrices, because the *operands* (the matrices we are operating on) are ***conformable*** for the specific operation (in this case, addition or subtraction). To be conformable for addition and subtraction, the operands must have the same number of rows and columns. There are different conformability requirements for other operations, such as multiplication; which we'll explore later."
    },
    {
      "metadata": {},
      "cell_type": "markdown",
      "source": "### Negative Matrices\nThe nagative of a matrix, is just a matrix with the sign of each element reversed:\n\n\\begin{equation}C = \\begin{bmatrix}-5 & -3 & -1 \\\\1 & 3 & 5\\end{bmatrix}\\end{equation}\n\n\\begin{equation}-C = \\begin{bmatrix}5 & 3 & 1 \\\\-1 & -3 & -5\\end{bmatrix}\\end{equation}\n\nLet's see that with Python:"
    },
    {
      "metadata": {
        "trusted": true
      },
      "cell_type": "code",
      "source": "import numpy as np\n\nC = np.array([[-5,-3,-1],\n              [1,3,5]])\nprint (C)\nprint (-C)",
      "execution_count": 5,
      "outputs": [
        {
          "output_type": "stream",
          "text": "[[-5 -3 -1]\n [ 1  3  5]]\n[[ 5  3  1]\n [-1 -3 -5]]\n",
          "name": "stdout"
        }
      ]
    },
    {
      "metadata": {},
      "cell_type": "markdown",
      "source": "### Matrix Transposition\nYou can *transpose* a matrix, that is switch the orientation of its rows and columns. You indicate this with a superscript **T**, like this:\n\n\\begin{equation}\\begin{bmatrix}1 & 2 & 3 \\\\4 & 5 & 6\\end{bmatrix}^{T} = \\begin{bmatrix}1 & 4\\\\2 & 5\\\\3 & 6 \\end{bmatrix}\\end{equation}\n\nIn Python, both *numpy.**array*** and *numpy.**matrix*** have a **T** function:"
    },
    {
      "metadata": {
        "trusted": true
      },
      "cell_type": "code",
      "source": "import numpy as np\n\nA = np.array([[1,2,3],\n              [4,5,6]])\nprint(A.T)",
      "execution_count": 6,
      "outputs": [
        {
          "output_type": "stream",
          "text": "[[1 4]\n [2 5]\n [3 6]]\n",
          "name": "stdout"
        }
      ]
    }
  ],
  "metadata": {
    "kernelspec": {
      "name": "python36",
      "display_name": "Python 3.6",
      "language": "python"
    },
    "language_info": {
      "mimetype": "text/x-python",
      "nbconvert_exporter": "python",
      "name": "python",
      "pygments_lexer": "ipython3",
      "version": "3.6.6",
      "file_extension": ".py",
      "codemirror_mode": {
        "version": 3,
        "name": "ipython"
      }
    }
  },
  "nbformat": 4,
  "nbformat_minor": 2
}