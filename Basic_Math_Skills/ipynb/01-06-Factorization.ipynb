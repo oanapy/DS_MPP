{
  "cells": [
    {
      "metadata": {},
      "cell_type": "markdown",
      "source": "# Factorization\nFactorization is the process of restating an expression as the *product* of two expressions (in other words, expressions multiplied together).\n\nFor example, you can make the value **16** by performing the following multiplications of integer numbers:\n- 1 x 16\n- 2 x 8\n- 4 x 4\n\nAnother way of saying this is that 1, 2, 4, 8, and 16 are all factors of 16.\n\n## Factors of Polynomial Expressions\nWe can apply the same logic to polynomial expressions. For example, consider the following monomial expression:\n\n\\begin{equation}-6x^{2}y^{3} \\end{equation}\n\nYou can get this value by performing the following multiplication:\n\n\\begin{equation}(2xy^{2})(-3xy) \\end{equation}\n\nRun the following Python code to test this with arbitrary ***x*** and ***y*** values:"
    },
    {
      "metadata": {
        "trusted": true
      },
      "cell_type": "code",
      "source": "from random import randint\nx = randint(1,100)\ny = randint(1,100)\n\n(2*x*y**2)*(-3*x*y) == -6*x**2*y**3",
      "execution_count": 1,
      "outputs": [
        {
          "output_type": "execute_result",
          "execution_count": 1,
          "data": {
            "text/plain": "True"
          },
          "metadata": {}
        }
      ]
    },
    {
      "metadata": {},
      "cell_type": "markdown",
      "source": "So, we can say that **2xy<sup>2</sup>** and **-3xy** are both factors of **-6x<sup>2</sup>y<sup>3</sup>**.\n\nThis also applies to polynomials with more than one term. For example, consider the following expression:\n\n\\begin{equation}(x + 2)(2x^{2} - 3y + 2) = 2x^{3} + 4x^{2} - 3xy + 2x - 6y + 4 \\end{equation}\n\nBased on this, **x+2** and **2x<sup>2</sup> - 3y + 2** are both factors of **2x<sup>3</sup> + 4x<sup>2</sup> - 3xy + 2x - 6y + 4**.\n\n(and if you don't believe me, you can try this with random values for x and y with the following Python code):"
    },
    {
      "metadata": {
        "trusted": true
      },
      "cell_type": "code",
      "source": "from random import randint\nx = randint(1,100)\ny = randint(1,100)\n\n(x + 2)*(2*x**2 - 3*y + 2) == 2*x**3 + 4*x**2 - 3*x*y + 2*x - 6*y + 4",
      "execution_count": 2,
      "outputs": [
        {
          "output_type": "execute_result",
          "execution_count": 2,
          "data": {
            "text/plain": "True"
          },
          "metadata": {}
        }
      ]
    },
    {
      "metadata": {},
      "cell_type": "markdown",
      "source": "## Greatest Common Factor\nOf course, these may not be the only factors of **-6x<sup>2</sup>y<sup>3</sup>**, just as 8 and 2 are not the only factors of 16.\n\nAdditionally, 2 and 8 aren't just factors of 16; they're factors of other numbers too - for example, they're both factors of 24 (because 2 x 12 = 24 and 8 x 3 = 24). Which leads us to the question, what is the highest number that is a factor of both 16 and 24? Well, let's look at all the numbers that multiply evenly into 12 and all the numbers that multiply evenly into 24:\n\n|   16   |   24   |\n|--------|--------|\n| 1 x 16 | 1 x 24 |\n| 2 x **8**  | 2 x 12 |\n|        | 3 x **8**  |\n| 4 x 4  | 4 x 6  |\n\nThe highest value that is a multiple of both 16 and 24 is **8**, so 8 is the *Greatest Common Factor* (or GCF) of 16 and 24.\n\nOK, let's apply that logic to the following expressions:\n\n\\begin{equation}15x^{2}y\\;\\;\\;\\;\\;\\;\\;\\;9xy^{3}\\end{equation}\n\nSo what's the greatest common factor of these two expressions?\n\nIt helps to break the expressions into their consitituent components. Let's deal with the coefficients first; we have 15 and 9. The highest value that divides evenly into both of these is **3** (3 x 5 = 15 and 3 x 3 = 9).\n\nNow let's look at the ***x*** terms; we have x<sup>2</sup> and x. The highest value that divides evenly into both is these is **x** (*x* goes into *x* once and into *x*<sup>2</sup> *x* times).\n\nFinally, for our ***y*** terms, we have y and y<sup>3</sup>. The highest value that divides evenly into both is these is **y** (*y* goes into *y* once and into *y*<sup>3</sup> *y&bull;y* times).\n\nPutting all of that together, the GCF of both of our expression is:\n\n\\begin{equation}3xy\\end{equation}\n\nAn easy shortcut to identifying the GCF of an expression that includes variables with exponentials is that it will always consist of:\n- The *largest* numeric factor of the numeric coefficients in the polynomial expressions (in this case 3)\n- The *smallest* exponential of each variable (in this case, x and y, which technically are x<sup>1</sup> and y<sup>1</sup>.\n\nYou can check your answer by dividing the original expressions by the GCF to find the coefficent expressions for the GCF (in other words, how many times the GCF divides into the original expression). The result, when multiplied by the GCF will always produce the original expression. So in this case, we need to perform the following divisions:\n\n\\begin{equation}\\frac{15x^{2}y}{3xy}\\;\\;\\;\\;\\;\\;\\;\\;\\frac{9xy^{3}}{3xy}\\end{equation}\n\nThese fractions simplify to **5x** and **3y<sup>2</sup>**, giving us the following calculations to prove our factorization:\n\n\\begin{equation}3xy(5x) = 15x^{2}y\\end{equation}\n\\begin{equation}3xy(3y^{2}) = 9xy^{3}\\end{equation}\n\nLet's try both of those in Python:"
    },
    {
      "metadata": {
        "trusted": true
      },
      "cell_type": "code",
      "source": "from random import randint\nx = randint(1,100)\ny = randint(1,100)\n\nprint((3*x*y)*(5*x) == 15*x**2*y)\nprint((3*x*y)*(3*y**2) == 9*x*y**3)",
      "execution_count": 3,
      "outputs": [
        {
          "output_type": "stream",
          "text": "True\nTrue\n",
          "name": "stdout"
        }
      ]
    },
    {
      "metadata": {},
      "cell_type": "markdown",
      "source": "## Distributing Factors\nLet's look at another example. Here is a binomial expression:\n\n\\begin{equation}6x + 15y \\end{equation}\n\nTo factor this, we need to find an expression that divides equally into both of these expressions. In this case, we can use **3** to factor the coefficents, because 3 &bull; 2x = 6x and 3&bull; 5y = 15y, so we can write our original expression as:\n\n\\begin{equation}6x + 15y = 3(2x) + 3(5y) \\end{equation}\n\nNow, remember the distributive property? It enables us to multiply each term of an expression by the same factor to calculate the product of the expression multiplied by the factor. We can *factor-out* the common factor in this expression to distribute it like this:\n\n\\begin{equation}6x + 15y = 3(2x) + 3(5y) = \\mathbf{3(2x + 5y)} \\end{equation}\n\nLet's prove to ourselves that these all evaluate to the same thing:"
    },
    {
      "metadata": {
        "trusted": true
      },
      "cell_type": "code",
      "source": "from random import randint\nx = randint(1,100)\ny = randint(1,100)\n\n(6*x + 15*y) == (3*(2*x) + 3*(5*y)) == (3*(2*x + 5*y))",
      "execution_count": 4,
      "outputs": [
        {
          "output_type": "execute_result",
          "execution_count": 4,
          "data": {
            "text/plain": "True"
          },
          "metadata": {}
        }
      ]
    },
    {
      "metadata": {},
      "cell_type": "markdown",
      "source": "For something a little more complex, let's return to our previous example. Suppose we want to add our original 15x<sup>2</sup>y and 9xy<sup>3</sup> expressions:\n\n\\begin{equation}15x^{2}y + 9xy^{3}\\end{equation}\n\nWe've already calculated the common factor, so we know that:\n\n\\begin{equation}3xy(5x) = 15x^{2}y\\end{equation}\n\\begin{equation}3xy(3y^{2}) = 9xy^{3}\\end{equation}\n\nNow we can factor-out the common factor to produce a single expression:\n\n\\begin{equation}15x^{2}y + 9xy^{3} = \\mathbf{3xy(5x + 3y^{2})}\\end{equation}\n\nAnd here's the Python test code:"
    },
    {
      "metadata": {
        "trusted": true
      },
      "cell_type": "code",
      "source": "from random import randint\nx = randint(1,100)\ny = randint(1,100)\n\n(15*x**2*y + 9*x*y**3) == (3*x*y*(5*x + 3*y**2))",
      "execution_count": 5,
      "outputs": [
        {
          "output_type": "execute_result",
          "execution_count": 5,
          "data": {
            "text/plain": "True"
          },
          "metadata": {}
        }
      ]
    },
    {
      "metadata": {},
      "cell_type": "markdown",
      "source": "So you might be wondering what's so great about being able to distribute the common factor like this. The answer is that it can often be useful to apply a common factor to multiple terms in order to solve seemingly complex problems.\n\nFor example, consider this:\n\n\\begin{equation}x^{2} + y^{2} + z^{2} = 127\\end{equation}\n\nNow solve this equation:\n\n\\begin{equation}a = 5x^{2} + 5y^{2} + 5z^{2}\\end{equation}\n\nAt first glance, this seems tricky because there are three unknown variables, and even though we know that their squares add up to 127, we don't know their individual values. However, we can distribute the common factor and apply what we *do* know. Let's restate the problem like this:\n\n\\begin{equation}a = 5(x^{2} + y^{2} + z^{2})\\end{equation}\n\nNow it becomes easier to solve, because we know that the expression in parenthesis is equal to 127, so actually our equation is:\n\n\\begin{equation}a = 5(127)\\end{equation}\n\nSo ***a*** is 5 times 127, which is 635"
    },
    {
      "metadata": {},
      "cell_type": "markdown",
      "source": "## Formulae for Factoring Squares\nThere are some useful ways that you can employ factoring to deal with expressions that contain squared values (that is, values with an exponential of 2).\n\n### Differences of Squares\nConsider the following expression:\n\n\\begin{equation}x^{2} - 9\\end{equation}\n\nThe constant *9* is 3<sup>2</sup>, so we could rewrite this as:\n\n\\begin{equation}x^{2} - 3^{2}\\end{equation}\n\nWhenever you need to subtract one squared term from another, you can use an approach called the *difference of squares*, whereby we can factor *a<sup>2</sup> - b<sup>2</sup>* as *(a - b)(a + b)*; so we can rewrite the expression as:\n\n\\begin{equation}(x - 3)(x + 3)\\end{equation}\n\nRun the code below to check this:"
    },
    {
      "metadata": {
        "trusted": true
      },
      "cell_type": "code",
      "source": "from random import randint\nx = randint(1,100)\n\n(x**2 - 9) == (x - 3)*(x + 3)",
      "execution_count": 6,
      "outputs": [
        {
          "output_type": "execute_result",
          "execution_count": 6,
          "data": {
            "text/plain": "True"
          },
          "metadata": {}
        }
      ]
    },
    {
      "metadata": {},
      "cell_type": "markdown",
      "source": "### Perfect Squares\nA *perfect square* is a number multiplied by itself, for example 3 multipled by 3 is 9, so 9 is a perfect square.\n\nWhen working with equations, the ability to factor between polynomial expressions and binomial perfect square expressions can be a useful tool. For example, consider this expression:\n\n\\begin{equation}x^{2} + 10x + 25\\end{equation}\n\nWe can use 5 as a common factor to rewrite this as:\n\n\\begin{equation}(x + 5)(x + 5)\\end{equation}\n\nSo what happened here?\n\nWell, first we found a common factor for our coefficients: 5 goes into 10 twice and into 25 five times (in other words, squared). Then we just expressed this factoring as a multiplication of two identical binomials *(x + 5)(x + 5)*.\n\nRemember the rule for multiplication of polynomials is to multiple each term in the first polynomial by each term in the second polynomial and then add the results; so you can do this to verify the factorization:\n\n- x &bull; x = x<sup>2</sup>\n- x &bull; 5 = 5x\n- 5 &bull; x = 5x\n- 5 &bull; 5 = 25\n\nWhen you combine the two 5x terms we get back to our original expression of x<sup>2</sup> + 10x + 25.\n\nNow we have an expression multipled by itself; in other words, a perfect square. We can therefore rewrite this as:\n\n\\begin{equation}(x + 5)^{2}\\end{equation}\n\nFactorization of perfect squares is a useful technique, as you'll see when we start to tackle quadratic equations in the next section. In fact, it's so useful that it's worth memorizing its formula:\n\n\\begin{equation}(a + b)^{2} = a^{2} + b^{2}+ 2ab \\end{equation}\n\nIn our example, the *a* terms is ***x*** and the *b* terms is ***5***, and in standard form, our equation  *x<sup>2</sup> + 10x + 25* is actually *a<sup>2</sup> +  2ab + b<sup>2</sup>*. The operations are all additions, so the order isn't actually important!\n\nRun the following code with random values for *a* and *b* to verify that the formula works:"
    },
    {
      "metadata": {
        "trusted": true
      },
      "cell_type": "code",
      "source": "from random import randint\na = randint(1,100)\nb = randint(1,100)\n\na**2 + b**2 + (2*a*b) == (a + b)**2",
      "execution_count": 7,
      "outputs": [
        {
          "output_type": "execute_result",
          "execution_count": 7,
          "data": {
            "text/plain": "True"
          },
          "metadata": {}
        }
      ]
    }
  ],
  "metadata": {
    "kernelspec": {
      "name": "python36",
      "display_name": "Python 3.6",
      "language": "python"
    },
    "language_info": {
      "mimetype": "text/x-python",
      "nbconvert_exporter": "python",
      "name": "python",
      "pygments_lexer": "ipython3",
      "version": "3.6.6",
      "file_extension": ".py",
      "codemirror_mode": {
        "version": 3,
        "name": "ipython"
      }
    }
  },
  "nbformat": 4,
  "nbformat_minor": 2
}