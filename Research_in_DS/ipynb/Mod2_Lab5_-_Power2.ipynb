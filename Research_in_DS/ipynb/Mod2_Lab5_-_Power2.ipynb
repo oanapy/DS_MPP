{
  "cells": [
    {
      "metadata": {},
      "cell_type": "markdown",
      "source": "Module 2, Lab 5 - Power 2 - Sample Size Planning Illustration\n=============================================================\n\nIn this lab, we will practice using the `tt_ind_solve_power` from the Python `statsmodels.stats.power` package for determining the minimum necessary sample size for a two-sample *t*-test design. I illustrate a real-life iterative project planning sequence so you can see how power planning can be integrated into a data-science research project.\n\nFirst, load the required software:"
    },
    {
      "metadata": {
        "trusted": true
      },
      "cell_type": "code",
      "source": "from statsmodels.stats.power import tt_ind_solve_power",
      "execution_count": 1,
      "outputs": []
    },
    {
      "metadata": {},
      "cell_type": "markdown",
      "source": "You wish to compare groups at two different locations in your\norganization to see if either group is more satisfied with their working\nconditions. You will be comparing the groups with a *t*-test, and you\ncare deeply about estimating the effect, even if it is small. Data will\nbe challenging to get, however, as you will have to get managers to ask\nemployees to return surveys. You need to determine the minimum necessary\nsample size to get adequate power.\n\nUsually, we start with our dream scenario. Let's ask for 90% power to\ndetect a very small effect size (*d* = .10). What sample size would be\nrequired?"
    },
    {
      "metadata": {
        "trusted": true
      },
      "cell_type": "code",
      "source": "tt_ind_solve_power(effect_size=0.1, nobs1 = None, alpha=0.05, power=0.9, ratio=1, alternative='two-sided')",
      "execution_count": 2,
      "outputs": [
        {
          "output_type": "execute_result",
          "execution_count": 2,
          "data": {
            "text/plain": "2102.444766799638"
          },
          "metadata": {}
        }
      ]
    },
    {
      "metadata": {},
      "cell_type": "markdown",
      "source": "We see here that we need 2103 people per group, or 4206 people in total.\nKnowing the size of the organization, you know anything that size is\nlikely out of the question. You might be able to get away, you think\nwith collecting data from 500 participants without imposing too much on\nteam supervisors. So, you try again, this time with a more realistic 80%\npower and a mid-range-small effect of *d* = .25."
    },
    {
      "metadata": {
        "trusted": true
      },
      "cell_type": "code",
      "source": "tt_ind_solve_power(effect_size=0.25, nobs1 = None, alpha=0.05, power=0.8, ratio=1, alternative='two-sided')",
      "execution_count": 3,
      "outputs": [
        {
          "output_type": "execute_result",
          "execution_count": 3,
          "data": {
            "text/plain": "252.12750515434277"
          },
          "metadata": {}
        }
      ]
    },
    {
      "metadata": {},
      "cell_type": "markdown",
      "source": "By pure happenstance, you get 253 per group (always round up to ensure\nsample size is adequate). You take this proposal to collect data from\n500 employees to your supervisor; after some discussion, you are told\nthat they will try to push for a large sample (on the basis of your\nrequest), but they've decided 400 is the maximum they are likely to be\nable to collect.\n\nNow, you change your strategy. 400 is close to 500, so it's likely to be\nsimilar. You now leave out effect size and input *n* = 200 (since it's\nper group) and a request for 80% power:"
    },
    {
      "metadata": {
        "trusted": true
      },
      "cell_type": "code",
      "source": "tt_ind_solve_power(effect_size=None, nobs1 = 200, alpha=0.05, power=0.8, ratio=1, alternative='two-sided')",
      "execution_count": 4,
      "outputs": [
        {
          "output_type": "execute_result",
          "execution_count": 4,
          "data": {
            "text/plain": "0.2808352254289386"
          },
          "metadata": {}
        }
      ]
    },
    {
      "metadata": {},
      "cell_type": "markdown",
      "source": "You will now have 80% power to detect effects as small as *d* = .28,\nwhich is still a mid-range small effect.\n\nBefore you tell everyone that will still work with this suggested sample\nsize, you run a loop to estimate power at that sample size for various\neffect sizes (e.g., power would suffer if *d* were lower, but would it\nbe *that* terrible if *d* were, say, .10?)"
    },
    {
      "metadata": {
        "trusted": true
      },
      "cell_type": "code",
      "source": "d_values = [x/100.0 for x in range(5,55,5)] # Need range to 55 since Python is zero based indexing\n\npowers = [tt_ind_solve_power(effect_size=d, nobs1 = 200, alpha=0.05, power=None, ratio=1, alternative='two-sided')\n            for d in d_values]\npowers",
      "execution_count": 5,
      "outputs": [
        {
          "output_type": "execute_result",
          "execution_count": 5,
          "data": {
            "text/plain": "[0.07895538929133396,\n 0.1694809244542697,\n 0.3217470763276429,\n 0.5140816347005553,\n 0.7033332979408062,\n 0.8491491055035322,\n 0.9371867266873951,\n 0.9788403128661938,\n 0.9942830780694523,\n 0.9987688466795083]"
          },
          "metadata": {}
        }
      ]
    },
    {
      "metadata": {},
      "cell_type": "markdown",
      "source": "Looking at this chart, we see that power really starts to drop off\naround *d* = .20, hitting 51%. You discuss this with your team; they\nconclude they are ok with a 50% chance of declaring \"no difference\" if\neffect is *that* small. The study is run with 400 people and an\ninformative result is produced.\n\nEpilogue\n========\n\nAt the very end, you hear that the original proposal had been to collect\n40 responses, 20 from each site. You smile to yourself, considering how\nyour power analysis likely saved the project. You run a power analysis\njust to see how bad the situation would be:"
    },
    {
      "metadata": {
        "trusted": true
      },
      "cell_type": "code",
      "source": "tt_ind_solve_power(effect_size=None, nobs1 = 20, alpha=0.05, power=0.8, ratio=1, alternative='two-sided')",
      "execution_count": 6,
      "outputs": [
        {
          "output_type": "execute_result",
          "execution_count": 6,
          "data": {
            "text/plain": "0.9091290568795594"
          },
          "metadata": {}
        }
      ]
    },
    {
      "metadata": {},
      "cell_type": "markdown",
      "source": "You see here that the smallest effect size for which you would have good\npower is well into the 'large' range. What if the effects were small?\nWhat are the odds the study would even be able to pick them up? You\nconsider the scenario of *d* = .25:"
    },
    {
      "metadata": {
        "trusted": true
      },
      "cell_type": "code",
      "source": "tt_ind_solve_power(effect_size=.25, nobs1 = 20, alpha=0.05, power=None, ratio=1, alternative='two-sided')",
      "execution_count": 7,
      "outputs": [
        {
          "output_type": "execute_result",
          "execution_count": 7,
          "data": {
            "text/plain": "0.12033536754525166"
          },
          "metadata": {}
        }
      ]
    },
    {
      "metadata": {},
      "cell_type": "markdown",
      "source": "This study would have 12% power. Yikes. It's a good thing you performed\na power analysis."
    },
    {
      "metadata": {
        "trusted": true
      },
      "cell_type": "code",
      "source": "",
      "execution_count": null,
      "outputs": []
    }
  ],
  "metadata": {
    "kernelspec": {
      "name": "python3",
      "display_name": "Python 3",
      "language": "python"
    },
    "language_info": {
      "mimetype": "text/x-python",
      "nbconvert_exporter": "python",
      "name": "python",
      "file_extension": ".py",
      "version": "3.5.4",
      "pygments_lexer": "ipython3",
      "codemirror_mode": {
        "version": 3,
        "name": "ipython"
      }
    }
  },
  "nbformat": 4,
  "nbformat_minor": 2
}